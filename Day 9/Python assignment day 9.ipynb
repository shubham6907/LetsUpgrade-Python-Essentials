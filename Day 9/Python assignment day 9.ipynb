{
 "cells": [
  {
   "cell_type": "markdown",
   "metadata": {},
   "source": [
    "# Question 1\n",
    "Write a python Function for finding is a given number prime or not and do Unit Testing on it using\n",
    "PyLint and Unittest Library."
   ]
  },
  {
   "cell_type": "code",
   "execution_count": 2,
   "metadata": {},
   "outputs": [
    {
     "name": "stdout",
     "output_type": "stream",
     "text": [
      "11 is a prime number\n"
     ]
    }
   ],
   "source": [
    "num = 11\n",
    "def prime(): \n",
    "    if num > 1: \n",
    "        for i in range(2, num): \n",
    "            if (num % i) == 0: \n",
    "                print(num, \"is not a prime number\") \n",
    "                break\n",
    "        else: \n",
    "            print(num, \"is a prime number\") \n",
    "    else: \n",
    "        print(num, \"is not a prime number\") \n",
    "prime()"
   ]
  },
  {
   "cell_type": "code",
   "execution_count": null,
   "metadata": {},
   "outputs": [],
   "source": [
    "import unittest \n",
    "  \n",
    "class SimpleTest(unittest.TestCase): \n",
    "  \n",
    "    def test(self):         \n",
    "        self.assertTrue(True) \n",
    "  \n",
    "    if __name__ == '__main__': \n",
    "        unittest.main() "
   ]
  },
  {
   "cell_type": "markdown",
   "metadata": {},
   "source": [
    "# Question 2\n",
    "Make a small generator program for returning armstrong numbers in between 1-1000 in a\n",
    "generator object."
   ]
  },
  {
   "cell_type": "code",
   "execution_count": 12,
   "metadata": {},
   "outputs": [
    {
     "name": "stdout",
     "output_type": "stream",
     "text": [
      "1\n",
      "153\n",
      "370\n",
      "371\n",
      "407\n"
     ]
    }
   ],
   "source": [
    "\n",
    "def armstrong():\n",
    "    for i in range(1,1001):\n",
    "        temp=i\n",
    "        sum1 = 0 \n",
    "        while temp > 0:  \n",
    "            digit = temp % 10  \n",
    "            sum1 += digit ** 3  \n",
    "            temp //= 10  \n",
    "        if i == sum1:  \n",
    "            yield i  \n",
    "# d=armstrong()\n",
    "# print(d.__next__())\n",
    "for i in armstrong():\n",
    "    print(i)"
   ]
  }
 ],
 "metadata": {
  "kernelspec": {
   "display_name": "Python 3",
   "language": "python",
   "name": "python3"
  },
  "language_info": {
   "codemirror_mode": {
    "name": "ipython",
    "version": 3
   },
   "file_extension": ".py",
   "mimetype": "text/x-python",
   "name": "python",
   "nbconvert_exporter": "python",
   "pygments_lexer": "ipython3",
   "version": "3.8.0"
  }
 },
 "nbformat": 4,
 "nbformat_minor": 4
}
