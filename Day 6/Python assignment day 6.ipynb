{
 "cells": [
  {
   "cell_type": "markdown",
   "metadata": {},
   "source": [
    "# Question 1\n",
    "For this challenge,create a bank account class that has two attributes<br>\n",
    "*ownerName<br>\n",
    "*Balance<br>\n",
    "And two methods<br>\n",
    "*deposit<br>\n",
    "*withdraw<br>\n",
    "As an added requirement,withdrawals may not exceed the available balance.<br>\n",
    "Instantiate your class,make several deposits and withdrawals,and test to make sure the account\n",
    "cant be overdrawn.<br>"
   ]
  },
  {
   "cell_type": "code",
   "execution_count": 11,
   "metadata": {},
   "outputs": [
    {
     "name": "stdout",
     "output_type": "stream",
     "text": [
      "1000\n",
      "1500\n",
      "600\n"
     ]
    }
   ],
   "source": [
    "class bank_account:\n",
    "    ownerName=\"\"\n",
    "    Balance=0\n",
    "    def __init__(self,name,bal):\n",
    "        self.ownerName=name\n",
    "        self.Balance=bal\n",
    "    def deposit(self,bal):\n",
    "        self.Balance=self.Balance+bal\n",
    "        return self.Balance\n",
    "        \n",
    "    def withdraw(self,bal):\n",
    "        if self.Balance>=bal:\n",
    "            self.Balance=self.Balance-bal\n",
    "            return self.Balance\n",
    "        else:\n",
    "            return \"not enough balance\"\n",
    "\n",
    "b=bank_account(\"shubham\",1000)\n",
    "print(b.Balance)\n",
    "print(b.deposit(500))\n",
    "print(b.withdraw(900))\n",
    "\n"
   ]
  },
  {
   "cell_type": "markdown",
   "metadata": {},
   "source": [
    "# Question 2\n",
    "For this challenge,create a cone class that has two attributes:<br>\n",
    "*R=Radius<br>\n",
    "*h=Height<br>\n",
    "And two methods:<br>\n",
    "*Volume = Π * r2 = (h/3)<br>\n",
    "*Surface area : base : Π * r2 , side : Π * r * √(r2 + h2)<br>\n",
    "Make only one class with functions,as in where required import Math.<br>"
   ]
  },
  {
   "cell_type": "code",
   "execution_count": 13,
   "metadata": {},
   "outputs": [
    {
     "name": "stdout",
     "output_type": "stream",
     "text": [
      "1256.6370614359173\n",
      "804.8917254495874\n"
     ]
    }
   ],
   "source": [
    "import math as m\n",
    "\n",
    "class cone:\n",
    "    Radius=0.00\n",
    "    Height=0.00\n",
    "    def __init__(self,r,h):\n",
    "        self.Radius=r\n",
    "        self.Height=h\n",
    "    def Volume(self):\n",
    "        return m.pi*self.Radius**2*(self.Height/3)\n",
    "        \n",
    "    def Surface_area(self):\n",
    "        return m.pi*self.Radius*(self.Radius+m.sqrt(self.Height**2+self.Radius**2))\n",
    "\n",
    "c=cone(10,12)\n",
    "print(c.Volume())\n",
    "print(c.Surface_area())\n",
    "\n",
    "        \n",
    "    "
   ]
  }
 ],
 "metadata": {
  "kernelspec": {
   "display_name": "Python 3",
   "language": "python",
   "name": "python3"
  },
  "language_info": {
   "codemirror_mode": {
    "name": "ipython",
    "version": 3
   },
   "file_extension": ".py",
   "mimetype": "text/x-python",
   "name": "python",
   "nbconvert_exporter": "python",
   "pygments_lexer": "ipython3",
   "version": "3.8.0"
  }
 },
 "nbformat": 4,
 "nbformat_minor": 4
}
